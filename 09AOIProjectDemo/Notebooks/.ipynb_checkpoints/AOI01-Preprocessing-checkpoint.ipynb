{
 "cells": [
  {
   "cell_type": "markdown",
   "metadata": {},
   "source": [
    "# AOI01-Preprocessing\n",
    "<img src=\"https://aidea-web.tw/images/5b04ebf7acca45000a7889ac/a49e3f76-69c9-4a4a-bcfc-c882840b3f27-small.png\" width = \"300\" height = \"200\" alt=\"AOI\" align=\"left\" />\n",
    "\n"
   ]
  },
  {
   "cell_type": "markdown",
   "metadata": {},
   "source": [
    "## AIdea AOI Hands-on workshop \n",
    "Please visit: https://aidea-web.tw/ and sign up an account.\n",
    "* The open topic: Defect Classifications of AOI https://aidea-web.tw/topic/a49e3f76-69c9-4a4a-bcfc-c882840b3f27\n",
    "* The AOI project for summer program  https://aidea-web.tw/topic/b4e83241-a385-4ff6-a5b8-82f3cc0ce6da"
   ]
  },
  {
   "cell_type": "markdown",
   "metadata": {},
   "source": [
    "# Step 1: download aoi data\n",
    "Yu can get the AOI dataset from the AIdea platform: https://aidea-web.tw/\n",
    "\n",
    "Here is a local copy for fast download: http://summer.aiplab.net/aoi.zip\n",
    "\n",
    "Unzip the aoi.zip into the Data folder"
   ]
  },
  {
   "cell_type": "markdown",
   "metadata": {},
   "source": [
    "## Step 2: check the train/test datasets "
   ]
  },
  {
   "cell_type": "code",
   "execution_count": null,
   "metadata": {},
   "outputs": [],
   "source": [
    "import pandas as pd"
   ]
  },
  {
   "cell_type": "code",
   "execution_count": null,
   "metadata": {},
   "outputs": [],
   "source": [
    "#train dataset\n",
    "df = pd.read_csv('../Data/train.csv')\n",
    "print(df.shape)"
   ]
  },
  {
   "cell_type": "code",
   "execution_count": null,
   "metadata": {},
   "outputs": [],
   "source": [
    "#test dataset\n",
    "df2 = pd.read_csv('../Data/test.csv')\n",
    "print(df2.shape)"
   ]
  },
  {
   "cell_type": "code",
   "execution_count": null,
   "metadata": {},
   "outputs": [],
   "source": [
    "train_labels = df.iloc[:,1].values\n",
    "print(train_labels)"
   ]
  },
  {
   "cell_type": "markdown",
   "metadata": {},
   "source": [
    "## Step 3: View the train images"
   ]
  },
  {
   "cell_type": "code",
   "execution_count": null,
   "metadata": {},
   "outputs": [],
   "source": [
    "import imageio\n",
    "import matplotlib.pyplot as plt\n",
    "import numpy as np\n",
    "import sys\n",
    "%matplotlib inline"
   ]
  },
  {
   "cell_type": "code",
   "execution_count": null,
   "metadata": {},
   "outputs": [],
   "source": [
    "img = imageio.imread(\"../Data/train_images/train_00100.png\")\n",
    "print(img.shape)"
   ]
  },
  {
   "cell_type": "code",
   "execution_count": null,
   "metadata": {},
   "outputs": [],
   "source": [
    "plt.imshow(img,cmap='gray')\n",
    "plt.show()"
   ]
  },
  {
   "cell_type": "code",
   "execution_count": null,
   "metadata": {},
   "outputs": [],
   "source": [
    "from PIL import Image\n",
    "img = Image.open( \"../Data/train_images/train_00100.png\" )\n",
    "img2=img.resize( (224, 224), Image.BILINEAR )\n",
    "plt.imshow(img2,cmap='gray')\n",
    "plt.show()"
   ]
  },
  {
   "cell_type": "code",
   "execution_count": null,
   "metadata": {},
   "outputs": [],
   "source": [
    "print (img2.size)\n"
   ]
  },
  {
   "cell_type": "markdown",
   "metadata": {},
   "source": [
    "## Step 4: Resize the train/test images by PIL"
   ]
  },
  {
   "cell_type": "code",
   "execution_count": null,
   "metadata": {},
   "outputs": [],
   "source": [
    "#Resize the train images-(1) PIL\n",
    "from PIL import Image\n",
    "maxTrainNum = 2528\n",
    "for i in range(0,maxTrainNum):\n",
    "    imgname=\"train_{0:0>5d}.png\".format(i)\n",
    "    imgname2 = \"train_{0:0>5d}_224.png\".format(i)\n",
    "    img = Image.open(\"../Data/train_images\" +'/'+ imgname)\n",
    "    img2 = img.resize((224,224), Image.BILINEAR)\n",
    "    img2.save(\"../Data/train_images\" +'/'+ imgname2 )"
   ]
  },
  {
   "cell_type": "code",
   "execution_count": null,
   "metadata": {},
   "outputs": [],
   "source": [
    "#Resize the test images-(1) PIL\n",
    "maxTestNum = 10142\n",
    "for i in range(0,maxTrainNum):\n",
    "    imgname=\"test_{0:0>5d}.png\".format(i)\n",
    "    imgname2 = \"test_{0:0>5d}_224.png\".format(i)\n",
    "    img = Image.open(\"../Data/test_images\" +'/'+ imgname)\n",
    "    img2 = img.resize((224,224), Image.BILINEAR)\n",
    "    img2.save(\"../Data/test_images\" +'/'+ imgname2 )"
   ]
  },
  {
   "cell_type": "code",
   "execution_count": null,
   "metadata": {},
   "outputs": [],
   "source": [
    "## Step 4: Resize the train/test images by OpenCV"
   ]
  },
  {
   "cell_type": "code",
   "execution_count": null,
   "metadata": {},
   "outputs": [],
   "source": [
    "#Resize the train images-(2) opencv\n",
    "import cv2\n",
    "maxTrainNum = 2528\n",
    "for i in range(0,maxTrainNum):\n",
    "    imgname=\"train_{0:0>5d}.png\".format(i)\n",
    "    imgname2 = \"train_{0:0>5d}_224.png\".format(i)\n",
    "    img = misc.imread(\"../Data/train_images\" +'/'+ imgname)\n",
    "    img2 = cv2.resize(img ,(224,224), interpolation=cv2.INTER_AREA)\n",
    "    cv2.imwrite(\"../Data/train_images\"+'/'+ imgname2, img2)"
   ]
  },
  {
   "cell_type": "code",
   "execution_count": null,
   "metadata": {},
   "outputs": [],
   "source": [
    "#Resize the test images-(2) opencv\n",
    "maxTestNum = 10142\n",
    "for i in range(0,maxTestNum):\n",
    "    imgname=\"test_{0:0>5d}.png\".format(i)\n",
    "    imgname2 = \"test_{0:0>5d}_224.png\".format(i)\n",
    "    img = cv2.imread(\"../Data/test_images\" +'/'+ imgname)\n",
    "    img2 = cv2.resize(img ,(224,224), interpolation=cv2.INTER_AREA)\n",
    "    cv2.imwrite(\"../Data/test_images\"+'/'+ imgname2, img2)"
   ]
  },
  {
   "cell_type": "code",
   "execution_count": null,
   "metadata": {},
   "outputs": [],
   "source": []
  }
 ],
 "metadata": {
  "kernelspec": {
   "display_name": "Python 3",
   "language": "python",
   "name": "python3"
  },
  "language_info": {
   "codemirror_mode": {
    "name": "ipython",
    "version": 3
   },
   "file_extension": ".py",
   "mimetype": "text/x-python",
   "name": "python",
   "nbconvert_exporter": "python",
   "pygments_lexer": "ipython3",
   "version": "3.7.1"
  }
 },
 "nbformat": 4,
 "nbformat_minor": 2
}
